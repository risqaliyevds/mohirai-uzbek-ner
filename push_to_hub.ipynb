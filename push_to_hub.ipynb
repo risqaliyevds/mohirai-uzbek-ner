{
 "cells": [
  {
   "metadata": {},
   "cell_type": "code",
   "outputs": [],
   "execution_count": null,
   "source": [
    "%env MODEL_CHECKPOINT=MODEL_CHECKPOINT\n",
    "%env MODEL_DIR=MODEL_DIR"
   ],
   "id": "8ab6ab6a612d9f19"
  },
  {
   "metadata": {},
   "cell_type": "code",
   "outputs": [],
   "execution_count": null,
   "source": [
    "import os\n",
    "from transformers import AutoTokenizer, AutoModelForTokenClassification\n",
    "from huggingface_hub import HfApi, HfFolder\n",
    "\n",
    "# Step 1: Login to the Hugging Face Hub\n",
    "# !huggingface-cli login\n",
    "\n",
    "# Step 2: Prepare your model and tokenizer\n",
    "model_checkpoint = os.environ[\"MODEL_CHECKPOINT\"]\n",
    "tokenizer = AutoTokenizer.from_pretrained(model_checkpoint)\n",
    "model = AutoModelForTokenClassification.from_pretrained(model_checkpoint)\n",
    "\n",
    "# Step 4: Save your model and tokenizer locally\n",
    "model_dir = os.environ[\"MODEL_DIR\"]\n",
    "tokenizer.save_pretrained(model_dir)\n",
    "model.save_pretrained(model_dir)\n",
    "\n",
    "# Step 5: Push the model to Hugging Face Hub\n",
    "token = HfFolder.get_token()\n",
    "api = HfApi()\n",
    "\n",
    "repo_name = \"xlm-roberta-large-ner\"  # Change this to your desired model name\n",
    "# repo_url = api.create_repo(token=token, name=repo_name, exist_ok=True)\n",
    "\n",
    "# Upload model files\n",
    "api.upload_folder(\n",
    "    folder_path=model_dir,\n",
    "    path_in_repo=\"\",\n",
    "    repo_id=f\"risqaliyevds/{repo_name}\",\n",
    "    token=token\n",
    ")\n",
    "\n",
    "print(f\"Model pushed to: risqaliyevds/{repo_name}\")"
   ],
   "id": "330755e197034c7b"
  }
 ],
 "metadata": {
  "kernelspec": {
   "display_name": "Python 3",
   "language": "python",
   "name": "python3"
  },
  "language_info": {
   "codemirror_mode": {
    "name": "ipython",
    "version": 2
   },
   "file_extension": ".py",
   "mimetype": "text/x-python",
   "name": "python",
   "nbconvert_exporter": "python",
   "pygments_lexer": "ipython2",
   "version": "2.7.6"
  }
 },
 "nbformat": 4,
 "nbformat_minor": 5
}
