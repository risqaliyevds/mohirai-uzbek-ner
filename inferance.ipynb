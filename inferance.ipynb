{
 "cells": [
  {
   "cell_type": "code",
   "execution_count": 1,
   "outputs": [
    {
     "name": "stdout",
     "output_type": "stream",
     "text": [
      "env: CUDA_VISIBLE_DEVICES=2\n"
     ]
    }
   ],
   "source": [
    "%env CUDA_VISIBLE_DEVICES=2"
   ],
   "metadata": {
    "collapsed": false,
    "ExecuteTime": {
     "end_time": "2024-05-28T11:42:57.170172900Z",
     "start_time": "2024-05-28T11:42:57.169171700Z"
    }
   },
   "id": "3cb22dda9f012a8c"
  },
  {
   "cell_type": "code",
   "execution_count": 2,
   "outputs": [
    {
     "name": "stderr",
     "output_type": "stream",
     "text": [
      "2024-05-28 11:42:57.927312: I tensorflow/core/util/port.cc:113] oneDNN custom operations are on. You may see slightly different numerical results due to floating-point round-off errors from different computation orders. To turn them off, set the environment variable `TF_ENABLE_ONEDNN_OPTS=0`.\n",
      "2024-05-28 11:42:57.950261: I tensorflow/core/platform/cpu_feature_guard.cc:210] This TensorFlow binary is optimized to use available CPU instructions in performance-critical operations.\n",
      "To enable the following instructions: AVX2 AVX_VNNI FMA, in other operations, rebuild TensorFlow with the appropriate compiler flags.\n",
      "2024-05-28 11:42:58.317640: W tensorflow/compiler/tf2tensorrt/utils/py_utils.cc:38] TF-TRT Warning: Could not find TensorRT\n"
     ]
    }
   ],
   "source": [
    "from transformers import AutoTokenizer, AutoModelForTokenClassification\n",
    "from transformers import pipeline\n",
    "\n",
    "\n",
    "def load_model_and_tokenizer(model_name_or_path):\n",
    "    tokenizer = AutoTokenizer.from_pretrained(model_name_or_path)\n",
    "    model = AutoModelForTokenClassification.from_pretrained(model_name_or_path).to(\"cuda\")\n",
    "    return tokenizer, model\n",
    "\n",
    "\n",
    "def infer(model, tokenizer, text):\n",
    "    # Tokenize the input text\n",
    "    tokens = tokenizer(text, return_tensors=\"pt\", truncation=True, padding=True).to(\"cuda\")\n",
    "\n",
    "    # Get predictions\n",
    "    outputs = model(**tokens)\n",
    "    predictions = outputs.logits.argmax(dim=-1).squeeze().tolist()\n",
    "\n",
    "    # Get labels from the tokenizer\n",
    "    labels = [model.config.id2label[pred] for pred in predictions]\n",
    "\n",
    "    # Combine tokens and labels\n",
    "    tokens = tokenizer.convert_ids_to_tokens(tokens.input_ids.squeeze().tolist())\n",
    "    results = list(zip(tokens, labels))\n",
    "\n",
    "    return results\n",
    "\n",
    "\n",
    "def format_predictions(predictions):\n",
    "    formatted_result = []\n",
    "    for token, label in predictions:\n",
    "        if token not in [\"[CLS]\", \"[SEP]\", \"[PAD]\"]:\n",
    "            formatted_result.append((token, label))\n",
    "    return formatted_result\n",
    "\n",
    "\n",
    "def get_ner(formatted_predictions):\n",
    "    text = \"\"\n",
    "    actual_label = \"\"\n",
    "    labels = []\n",
    "\n",
    "    for token, label in formatted_predictions:\n",
    "        if label.startswith(\"B\"):\n",
    "            if text:\n",
    "                labels.append((text, actual_label))\n",
    "            actual_label = label.split(\"-\")[1]\n",
    "            text = token.replace(\"▁\", \" \")\n",
    "        elif text != \"\" and label.startswith(\"I\") and actual_label == label.split(\"-\")[1]:\n",
    "            text += token.replace(\"▁\", \" \")\n",
    "        else:\n",
    "            if text and actual_label:\n",
    "                labels.append((text.strip(), actual_label))\n",
    "            text = \"\"\n",
    "            actual_label = \"\"\n",
    "\n",
    "    # Ensure the last entity is added\n",
    "    if text and actual_label:\n",
    "        labels.append((text.strip(), actual_label))\n",
    "\n",
    "    return labels"
   ],
   "metadata": {
    "collapsed": false,
    "ExecuteTime": {
     "end_time": "2024-05-28T11:42:59.837217600Z",
     "start_time": "2024-05-28T11:42:57.772682600Z"
    }
   },
   "id": "initial_id"
  },
  {
   "cell_type": "code",
   "execution_count": 3,
   "outputs": [],
   "source": [
    "# Load your trained model and tokenizer\n",
    "model_name_or_path = \"/mnt/sdb/stt/mata/models/ner_models/train/xlm-roberta-large-finetuned-conll03-english-hug-28-05-2024/xlm-roberta-large\"\n",
    "tokenizer, model = load_model_and_tokenizer(model_name_or_path)\n"
   ],
   "metadata": {
    "collapsed": false,
    "ExecuteTime": {
     "end_time": "2024-05-28T11:43:01.981883700Z",
     "start_time": "2024-05-28T11:43:00.527874600Z"
    }
   },
   "id": "68af9d3c2bb16210"
  },
  {
   "cell_type": "code",
   "execution_count": 4,
   "outputs": [],
   "source": [
    "# Example text for inference\n",
    "text = \"Shavkat Mirziyoyev Rossiya bilan hamkorlikda kam quvvatli AES qurilishi haqida gapirdi.\""
   ],
   "metadata": {
    "collapsed": false,
    "ExecuteTime": {
     "end_time": "2024-05-28T11:43:02.597178Z",
     "start_time": "2024-05-28T11:43:02.590075300Z"
    }
   },
   "id": "573de405355c88f5"
  },
  {
   "cell_type": "code",
   "execution_count": 5,
   "outputs": [
    {
     "data": {
      "text/plain": "[(' Shavkat Mirziyoyev', 'PERSON'), ('Rossiya', 'GPE')]"
     },
     "execution_count": 5,
     "metadata": {},
     "output_type": "execute_result"
    }
   ],
   "source": [
    "# Perform inference\n",
    "predictions = infer(model, tokenizer, text)\n",
    "\n",
    "# Format predictions\n",
    "formatted_predictions = format_predictions(predictions)\n",
    "ner = get_ner(formatted_predictions)\n",
    "ner"
   ],
   "metadata": {
    "collapsed": false,
    "ExecuteTime": {
     "end_time": "2024-05-28T11:43:03.300449300Z",
     "start_time": "2024-05-28T11:43:03.233625600Z"
    }
   },
   "id": "faabec977911ccd5"
  }
 ],
 "metadata": {
  "kernelspec": {
   "display_name": "Python 3",
   "language": "python",
   "name": "python3"
  },
  "language_info": {
   "codemirror_mode": {
    "name": "ipython",
    "version": 2
   },
   "file_extension": ".py",
   "mimetype": "text/x-python",
   "name": "python",
   "nbconvert_exporter": "python",
   "pygments_lexer": "ipython2",
   "version": "2.7.6"
  }
 },
 "nbformat": 4,
 "nbformat_minor": 5
}
